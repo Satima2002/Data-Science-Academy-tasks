{
 "cells": [
  {
   "cell_type": "markdown",
   "id": "1f27fc27",
   "metadata": {},
   "source": [
    "### Read from config.ini file"
   ]
  },
  {
   "cell_type": "code",
   "execution_count": 1,
   "id": "48748ef9",
   "metadata": {},
   "outputs": [],
   "source": [
    "import configparser\n",
    "\n",
    "config = configparser.ConfigParser() \n",
    "config.read(\"config.ini\") \n",
    "\n",
    "log_file_path=config[\"dev\"][\"LOG_FILE_PATH\"]\n",
    "sort_method=config[\"dev\"][\"SORT_BY\"]\n",
    "save_file_path=config[\"dev\"][\"SAVE_FILE_PATH\"]\n",
    "\n",
    "\n"
   ]
  },
  {
   "cell_type": "markdown",
   "id": "8aed7482",
   "metadata": {},
   "source": [
    "### Read data from the file and save into dictionary"
   ]
  },
  {
   "cell_type": "code",
   "execution_count": 2,
   "id": "8d28f173",
   "metadata": {
    "scrolled": false
   },
   "outputs": [
    {
     "ename": "FileNotFoundError",
     "evalue": "[Errno 2] No such file or directory: 'text.txt'",
     "output_type": "error",
     "traceback": [
      "\u001b[1;31m---------------------------------------------------------------------------\u001b[0m",
      "\u001b[1;31mFileNotFoundError\u001b[0m                         Traceback (most recent call last)",
      "Cell \u001b[1;32mIn [2], line 1\u001b[0m\n\u001b[1;32m----> 1\u001b[0m data \u001b[38;5;241m=\u001b[39m \u001b[38;5;28mopen\u001b[39m(log_file_path, \u001b[38;5;124m\"\u001b[39m\u001b[38;5;124mr\u001b[39m\u001b[38;5;124m\"\u001b[39m)\n\u001b[0;32m      2\u001b[0m org_dict \u001b[38;5;241m=\u001b[39m \u001b[38;5;28mdict\u001b[39m()\n\u001b[0;32m      4\u001b[0m \u001b[38;5;28;01mfor\u001b[39;00m line \u001b[38;5;129;01min\u001b[39;00m data:\n",
      "\u001b[1;31mFileNotFoundError\u001b[0m: [Errno 2] No such file or directory: 'text.txt'"
     ]
    }
   ],
   "source": [
    "\n",
    "data = open(log_file_path, \"r\")\n",
    "org_dict = dict()\n",
    "\n",
    "for line in data:\n",
    "    characters=\"!@#$%^&*()./?,''\\/`\"\n",
    "    for char in characters:\n",
    "        line = line.replace(char, \"\")\n",
    "\n",
    "    line = line.strip()\n",
    "    line = line.lower()\n",
    "    words = line.split(\" \")                \n",
    "\n",
    "    for word in words:      \n",
    "        if word in org_dict:\n",
    "            org_dict[word] = org_dict[word] + 1\n",
    "        else:\n",
    "            org_dict[word] = 1\n",
    "data.close() \n",
    "\n"
   ]
  },
  {
   "cell_type": "code",
   "execution_count": null,
   "id": "8584ca40",
   "metadata": {},
   "outputs": [],
   "source": [
    "del org_dict['']"
   ]
  },
  {
   "cell_type": "markdown",
   "id": "24d1cd0c",
   "metadata": {},
   "source": [
    "### Function for sorting words by frequencies in descending order "
   ]
  },
  {
   "cell_type": "code",
   "execution_count": null,
   "id": "4bd6cf46",
   "metadata": {
    "scrolled": true
   },
   "outputs": [],
   "source": [
    "#sort by occurences\n",
    "import operator\n",
    "def sort_by_occurence(org_dict):\n",
    "    sorted_dict = dict(sorted(org_dict.items(), key=operator.itemgetter(1),reverse=True))\n",
    "    f = open(save_file_path, \"a\")\n",
    "    f.write(\"\\nSORTED BY WORDS FREQUENCY: \\n\")\n",
    "    for key in list(sorted_dict.keys()):  \n",
    "        f.write(str(key)+\":\"+str(org_dict[key])+\"\\n\")\n",
    "    f.close()"
   ]
  },
  {
   "cell_type": "markdown",
   "id": "fed8aaaf",
   "metadata": {},
   "source": [
    "### Function for sorting words in alphabetic order (numbers and symbols go first)"
   ]
  },
  {
   "cell_type": "code",
   "execution_count": null,
   "id": "e9f82846",
   "metadata": {},
   "outputs": [],
   "source": [
    "#dictionary oredered in alphabetically\n",
    "def sort_by_alphabet(org_dict):\n",
    "    sorted_dict = {key: value for key, value in sorted(org_dict.items())} \n",
    "    f = open(save_file_path, \"a\")\n",
    "    f.write(\"\\nSYMBOLS SORTED IN ALPHABETIC ORDER:(NUMBERS GO FIRST) \\n\")\n",
    "    for key in list(sorted_dict.keys()):  \n",
    "        f.write(str(key)+\":\"+str(org_dict[key])+\"\\n\")\n",
    "    f.close()     "
   ]
  },
  {
   "cell_type": "code",
   "execution_count": null,
   "id": "877d13de",
   "metadata": {},
   "outputs": [],
   "source": [
    "#write results into separate file\n",
    "f = open(save_file_path, \"a\")\n",
    "f.write(\"\\nWORDS AND THEIR FREQUENCY: \\n\")\n",
    "for key in list(org_dict.keys()):  \n",
    "    f.write(str(key)+\":\"+str(org_dict[key])+\"\\n\")\n",
    "f.close()\n",
    "\n",
    "if sort_method==\"frequency_desc\":\n",
    "    sort_by_occurence(org_dict)\n",
    "elif sort_method==\"alphabet\":\n",
    "    sort_by_alphabet(org_dict)\n",
    "else:\n",
    "    print(\"Entered wrong config file\")\n",
    "    \n",
    "\n",
    "\n"
   ]
  },
  {
   "cell_type": "code",
   "execution_count": null,
   "id": "ac983ba8",
   "metadata": {},
   "outputs": [],
   "source": []
  }
 ],
 "metadata": {
  "kernelspec": {
   "display_name": "Python 3 (ipykernel)",
   "language": "python",
   "name": "python3"
  },
  "language_info": {
   "codemirror_mode": {
    "name": "ipython",
    "version": 3
   },
   "file_extension": ".py",
   "mimetype": "text/x-python",
   "name": "python",
   "nbconvert_exporter": "python",
   "pygments_lexer": "ipython3",
   "version": "3.9.7"
  }
 },
 "nbformat": 4,
 "nbformat_minor": 5
}
